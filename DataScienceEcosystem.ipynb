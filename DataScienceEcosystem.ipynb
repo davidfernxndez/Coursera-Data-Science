{
 "cells": [
  {
   "cell_type": "markdown",
   "id": "4409a0fc-a627-4a89-a5c1-e1196f19bd7e",
   "metadata": {},
   "source": [
    "## Data Science Tools and Ecosystem"
   ]
  },
  {
   "cell_type": "markdown",
   "id": "059a931f-d48d-4ac5-b091-88b9556c8111",
   "metadata": {},
   "source": [
    "In this notebook, Data Science Tools and Ecosystem are summarized."
   ]
  },
  {
   "cell_type": "markdown",
   "id": "bde8a74a-c1f3-4920-8ca4-2f52222590b7",
   "metadata": {},
   "source": [
    "__Objectives__\n",
    "* Write markdown\n",
    "* Write differente title levels\n",
    "* Write comments in the code.\n",
    "* Do a arithmetic operation."
   ]
  },
  {
   "cell_type": "markdown",
   "id": "3776530f-cabd-48e8-b2ea-725dfe452cb5",
   "metadata": {},
   "source": [
    "#### Some of the popular languages that Data Scientists use are:\n",
    "1. Python\n",
    "2. R\n",
    "3. Julia\n",
    "4. Java"
   ]
  },
  {
   "cell_type": "markdown",
   "id": "de8c8d50-5b59-4b37-871a-6633858cc289",
   "metadata": {},
   "source": [
    "#### Some of the commonly used libraries used by Data Scientists include:\n",
    "1. Pandas\n",
    "2. Matplotlib\n",
    "3. SckitLearn\n",
    "4. Pytorch"
   ]
  },
  {
   "cell_type": "markdown",
   "id": "78b74d0c-b63e-43c8-8aab-32682872c691",
   "metadata": {},
   "source": [
    "| Data Science Tools |\n",
    "|--------------------|\n",
    "| Jupyter Notebook  |\n",
    "| RStudio           |\n",
    "| VS Code           |"
   ]
  },
  {
   "cell_type": "markdown",
   "id": "552e5922-d9f2-4cce-962a-f15702061d4a",
   "metadata": {},
   "source": [
    "### Below are a few examples of evaluating arithmetic expressions in Python"
   ]
  },
  {
   "cell_type": "code",
   "execution_count": 1,
   "id": "de84cee5-c011-4c98-8333-76de3b778322",
   "metadata": {},
   "outputs": [
    {
     "data": {
      "text/plain": [
       "17"
      ]
     },
     "execution_count": 1,
     "metadata": {},
     "output_type": "execute_result"
    }
   ],
   "source": [
    "# This a simple arithmetic expression to mutiply then add integers\n",
    "(3*4)+5"
   ]
  },
  {
   "cell_type": "code",
   "execution_count": 2,
   "id": "10ed34eb-46f5-4423-a231-be3cbcf500b5",
   "metadata": {},
   "outputs": [
    {
     "name": "stdout",
     "output_type": "stream",
     "text": [
      "3.3333333333333335\n"
     ]
    }
   ],
   "source": [
    "# This will convert 200 minutes to hours by diving by 60\n",
    "minutes = 200\n",
    "hours = 200/60\n",
    "print(hours)"
   ]
  },
  {
   "cell_type": "markdown",
   "id": "28dd8207-30bc-46bc-af2b-d38b1246be28",
   "metadata": {},
   "source": [
    "## Author\n",
    "\n",
    "David Fernández Martínez"
   ]
  },
  {
   "cell_type": "code",
   "execution_count": null,
   "id": "41b011e6-54f4-4153-83d5-4022036a6ead",
   "metadata": {},
   "outputs": [],
   "source": []
  }
 ],
 "metadata": {
  "kernelspec": {
   "display_name": "Python 3 (ipykernel)",
   "language": "python",
   "name": "python3"
  },
  "language_info": {
   "codemirror_mode": {
    "name": "ipython",
    "version": 3
   },
   "file_extension": ".py",
   "mimetype": "text/x-python",
   "name": "python",
   "nbconvert_exporter": "python",
   "pygments_lexer": "ipython3",
   "version": "3.11.11"
  }
 },
 "nbformat": 4,
 "nbformat_minor": 5
}
